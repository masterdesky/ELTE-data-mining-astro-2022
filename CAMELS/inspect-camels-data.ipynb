{
 "cells": [
  {
   "cell_type": "code",
   "execution_count": null,
   "id": "8930ae3a-1a62-4bfa-9124-a129b6e89bc7",
   "metadata": {},
   "outputs": [],
   "source": [
    "import os\n",
    "import numpy as np\n",
    "import pandas as pd\n",
    "from tqdm import tqdm\n",
    "\n",
    "import matplotlib.pyplot as plt"
   ]
  },
  {
   "cell_type": "code",
   "execution_count": null,
   "id": "546792db-128d-4add-824b-60980359d5e1",
   "metadata": {},
   "outputs": [],
   "source": [
    "plt.rc('text', usetex=True)"
   ]
  },
  {
   "cell_type": "code",
   "execution_count": null,
   "id": "53ed5a25-dd27-4c61-a967-28df78e1bc8f",
   "metadata": {},
   "outputs": [],
   "source": [
    "DDIR = '/home/masterdesky/data/CAMELS/2D_maps/data/'\n",
    "FILE = os.listdir(DDIR)\n",
    "FILE = sorted([\n",
    "    f for f in FILE if ('.txt' not in f)# & ('_CV_' not in f)\n",
    "])"
   ]
  },
  {
   "cell_type": "code",
   "execution_count": null,
   "id": "52e97181-8c8d-4c0c-8b9c-74d4b9242537",
   "metadata": {},
   "outputs": [],
   "source": [
    "n_images = 0\n",
    "for f in FILE:\n",
    "    n_this = np.load(os.path.join(DDIR, f), allow_pickle=True).shape[0]\n",
    "    print(f\"Number of imgs in `{f}` : {n_this}\")\n",
    "    n_images += n_this\n",
    "print(f\"-------------------------\")\n",
    "print(f\"Total number of imgs : {n_images}\")"
   ]
  },
  {
   "cell_type": "code",
   "execution_count": null,
   "id": "14904654-e9e5-4199-b43f-fd299123bfd7",
   "metadata": {},
   "outputs": [],
   "source": [
    "def plot_example(f, *, nr=3, nc=8,\n",
    "                 shuffle=False,\n",
    "                 seed=None):\n",
    "\n",
    "    # strange 16, 28, 46, 48\n",
    "    needs_scale = [\n",
    "        2, 3, 5, 6, 8, 10, 11, 14, 16, 19, 23, 24, 25, 27, 29, 30, 31,\n",
    "        32, 33, 36, 37, 38, 40, 41, 42, 43, 45, 47, 51, 53\n",
    "    ]\n",
    "    mstar = [16, 28, 46, 48]\n",
    "\n",
    "    # Open images\n",
    "    df = np.load(os.path.join(DDIR, f), allow_pickle=True)\n",
    "    \n",
    "    # Plot tiles\n",
    "    fig, axes = plt.subplots(nr, nc, figsize=(nc*8, nr*8),\n",
    "                             facecolor='black')\n",
    "    fig.subplots_adjust(wspace=0.0, hspace=0.05)\n",
    "\n",
    "    np.random.seed(seed)\n",
    "    if shuffle:\n",
    "        idx = np.random.randint(low=0, high=df.shape[0], size=nr*nc)\n",
    "    else:\n",
    "        idx = np.arange(0, nr*nc, 1)\n",
    "    \n",
    "    for i, ax in enumerate(axes.flat):\n",
    "        ax.axis('off')\n",
    "        #if FILE.index(f) in needs_scale:\n",
    "        if 'Mstar' in f:\n",
    "            ax.imshow(np.log10(df[idx][i] + 1.0))\n",
    "        else:\n",
    "            ax.imshow(np.log10(df[idx][i]))\n",
    "\n",
    "    plt.suptitle(f\"Map : {f}\", color='white',\n",
    "                 fontsize=55, fontweight='bold',\n",
    "                 y=0.92)\n",
    "    \n",
    "    plt.show()"
   ]
  },
  {
   "cell_type": "code",
   "execution_count": null,
   "id": "f23ad917-649f-489a-9afc-9869f790cae5",
   "metadata": {},
   "outputs": [],
   "source": [
    "def plot_simulation_random_map(TARGET='SIMBA'):\n",
    "    \n",
    "    # Get filenames for a target simulation\n",
    "    FILE = os.listdir(DDIR)\n",
    "    FILE = sorted([\n",
    "        f for f in FILE if ('.txt' not in f) \\\n",
    "                         & ('_CV_' not in f) \\\n",
    "                         & (TARGET in f)\n",
    "    ])\n",
    "    \n",
    "    # Get parameters\n",
    "    y = np.genfromtxt(os.path.join(DDIR, f\"params_{TARGET}.txt\"))\n",
    "    \n",
    "    \n",
    "    # Plot maps for a single simulation\n",
    "    # Each simulation contain 15 slices for 13 different channels each\n",
    "    \n",
    "    # Select random simulation and random slice\n",
    "    sim_i = np.random.randint(0, 1000)\n",
    "    map_i = np.random.randint(0, 15)\n",
    "    # Create iterator for simulation indeces\n",
    "    sim_it = iter(range(13))\n",
    "    \n",
    "    nr, nc = 3, 5\n",
    "    fig, axes = plt.subplots(nr, nc, figsize=(8*nc, 8*nr),\n",
    "                             facecolor='black')\n",
    "    fig.subplots_adjust(wspace=0.0, hspace=0.05)\n",
    "    \n",
    "    for ax_i, ax in enumerate(axes.flat):\n",
    "        ax.axis('off')\n",
    "        \n",
    "        # Write parameters on the empty space\n",
    "        x_pos = np.array([1/6] * 6)\n",
    "        y_pos = np.array([3/3, 2/3, 1/3, 0, -1/3, -2/3]) - 1/6\n",
    "        params = ['\\Omega_m', '\\sigma_8',\n",
    "                  'A_{SN1}', 'A_{SN2}', 'A_{AGN1}', 'A_{AGN2}']\n",
    "        s = [\n",
    "            f\"${p_i}\\ \\ = {y_i:.2f}$\" for p_i, y_i in zip(params, y[sim_i])\n",
    "        ]\n",
    "\n",
    "        if ax_i == 5:\n",
    "            for x_i, y_i, s_i in zip(x_pos, y_pos, s):\n",
    "                ax.text(x_i, y_i, s_i,\n",
    "                        color='white', fontsize=48, transform=ax.transAxes)\n",
    "            continue\n",
    "        elif ax_i == 10:\n",
    "            continue\n",
    "        \n",
    "        # Open the next simulation's dataset\n",
    "        f = FILE[next(sim_it)]\n",
    "        df = np.load(os.path.join(DDIR, f), allow_pickle=True)\n",
    "        \n",
    "        if 'Mstar' in f:\n",
    "            ax.imshow(np.log10(df[sim_i*15 + map_i] + 1.0),\n",
    "                      cmap='Greys_r')\n",
    "        else:\n",
    "            ax.imshow(np.log10(df[sim_i*15 + map_i]),\n",
    "                      cmap='Greys_r')\n",
    "\n",
    "    fname = f\"./out/example_sim-{sim_i}_slice-{map_i}.png\"\n",
    "    plt.savefig(fname,\n",
    "                bbox_inches='tight')\n",
    "            \n",
    "    plt.show()"
   ]
  },
  {
   "cell_type": "code",
   "execution_count": null,
   "id": "3a81b2c7-1f86-4dba-bc2e-8815daabef74",
   "metadata": {},
   "outputs": [],
   "source": [
    "plot_simulation_random_map(TARGET='SIMBA')"
   ]
  },
  {
   "cell_type": "code",
   "execution_count": null,
   "id": "da352a8c-d64d-418f-b6b7-dd83d1a0281f",
   "metadata": {},
   "outputs": [],
   "source": [
    "plot_example(f=FILE[0])"
   ]
  },
  {
   "cell_type": "code",
   "execution_count": null,
   "id": "a8bf3a49-3591-4b67-bb6d-d05a2b33fdcf",
   "metadata": {},
   "outputs": [],
   "source": [
    "plot_example(f=FILE[1])"
   ]
  },
  {
   "cell_type": "code",
   "execution_count": null,
   "id": "55116a1d-199e-4455-ac4f-0c632c15bfdf",
   "metadata": {},
   "outputs": [],
   "source": [
    "plot_example(f=FILE[2])"
   ]
  },
  {
   "cell_type": "code",
   "execution_count": null,
   "id": "accb88ba-4815-4f76-9329-acf3dad88963",
   "metadata": {},
   "outputs": [],
   "source": [
    "plot_example(f=FILE[3])"
   ]
  },
  {
   "cell_type": "code",
   "execution_count": null,
   "id": "93f3a030-5013-4be3-acfb-e67044baa60e",
   "metadata": {},
   "outputs": [],
   "source": [
    "plot_example(f=FILE[4])"
   ]
  },
  {
   "cell_type": "code",
   "execution_count": null,
   "id": "eded49d1-dc7b-4648-9db8-af01cbe4d8e0",
   "metadata": {},
   "outputs": [],
   "source": [
    "plot_example(f=FILE[5])"
   ]
  },
  {
   "cell_type": "code",
   "execution_count": null,
   "id": "86e779e2-c922-4dbf-93a3-c0541cc660ce",
   "metadata": {},
   "outputs": [],
   "source": [
    "plot_example(f=FILE[6])"
   ]
  },
  {
   "cell_type": "code",
   "execution_count": null,
   "id": "f3c2ec80-8e88-4ebc-ab2c-fc79026c0439",
   "metadata": {},
   "outputs": [],
   "source": [
    "plot_example(f=FILE[7])"
   ]
  },
  {
   "cell_type": "code",
   "execution_count": null,
   "id": "9f97cfb8-8bbc-4f84-9f02-dda85afa5148",
   "metadata": {},
   "outputs": [],
   "source": [
    "plot_example(f=FILE[8])"
   ]
  },
  {
   "cell_type": "code",
   "execution_count": null,
   "id": "30fdddd4-6bfb-4868-9243-3bea311fc1e4",
   "metadata": {},
   "outputs": [],
   "source": [
    "plot_example(f=FILE[9])"
   ]
  },
  {
   "cell_type": "code",
   "execution_count": null,
   "id": "bf1b0f10-1548-477f-8014-3c000d565ead",
   "metadata": {},
   "outputs": [],
   "source": [
    "plot_example(f=FILE[10])"
   ]
  },
  {
   "cell_type": "code",
   "execution_count": null,
   "id": "6085382d-15ea-48cf-bd96-a867547a10cc",
   "metadata": {},
   "outputs": [],
   "source": [
    "plot_example(f=FILE[11])"
   ]
  },
  {
   "cell_type": "code",
   "execution_count": null,
   "id": "ab90a6e1-457d-487b-bbec-d35ceb9598b5",
   "metadata": {},
   "outputs": [],
   "source": [
    "plot_example(f=FILE[12])"
   ]
  },
  {
   "cell_type": "code",
   "execution_count": null,
   "id": "39f10f7d-4c77-4d25-a3e2-c2b0ffd5ed47",
   "metadata": {},
   "outputs": [],
   "source": [
    "plot_example(f=FILE[13])"
   ]
  },
  {
   "cell_type": "code",
   "execution_count": null,
   "id": "d96f7711-b76c-4814-b2b9-a6ec73501539",
   "metadata": {},
   "outputs": [],
   "source": [
    "plot_example(f=FILE[14])"
   ]
  },
  {
   "cell_type": "code",
   "execution_count": null,
   "id": "9876e43b-ba96-4320-9f30-2da806114317",
   "metadata": {},
   "outputs": [],
   "source": [
    "plot_example(f=FILE[15])"
   ]
  },
  {
   "cell_type": "code",
   "execution_count": null,
   "id": "5bf1fe2c-e5a2-44f3-bf93-bdd32a7679a4",
   "metadata": {},
   "outputs": [],
   "source": [
    "plot_example(f=FILE[16])"
   ]
  },
  {
   "cell_type": "code",
   "execution_count": null,
   "id": "e6be54a5-fe1a-4b49-ae10-96f99cb68683",
   "metadata": {},
   "outputs": [],
   "source": [
    "plot_example(f=FILE[17])"
   ]
  },
  {
   "cell_type": "code",
   "execution_count": null,
   "id": "441e4173-b2be-4d5b-a885-19367cfdd0e2",
   "metadata": {},
   "outputs": [],
   "source": [
    "plot_example(f=FILE[18])"
   ]
  },
  {
   "cell_type": "code",
   "execution_count": null,
   "id": "cfd2b1c2-a9b8-43f5-a77a-b93ecd0a8aa0",
   "metadata": {},
   "outputs": [],
   "source": [
    "plot_example(f=FILE[19])"
   ]
  },
  {
   "cell_type": "code",
   "execution_count": null,
   "id": "fcd525ef-637a-4bea-ab1f-2c7abb824699",
   "metadata": {},
   "outputs": [],
   "source": [
    "plot_example(f=FILE[20])"
   ]
  },
  {
   "cell_type": "code",
   "execution_count": null,
   "id": "348127db-36bc-42dd-bed7-cd23f78af2d8",
   "metadata": {},
   "outputs": [],
   "source": [
    "plot_example(f=FILE[21])"
   ]
  },
  {
   "cell_type": "code",
   "execution_count": null,
   "id": "8b82a446-05e0-4a70-881a-87bc0c5af387",
   "metadata": {},
   "outputs": [],
   "source": [
    "plot_example(f=FILE[22])"
   ]
  },
  {
   "cell_type": "code",
   "execution_count": null,
   "id": "4e0993fc-04c1-4a94-adf9-25621b94d2d9",
   "metadata": {},
   "outputs": [],
   "source": [
    "plot_example(f=FILE[23])"
   ]
  },
  {
   "cell_type": "code",
   "execution_count": null,
   "id": "ffe0ded9-9e39-40d9-ab0c-4cd61d0ca50d",
   "metadata": {},
   "outputs": [],
   "source": [
    "plot_example(f=FILE[24])"
   ]
  },
  {
   "cell_type": "code",
   "execution_count": null,
   "id": "b7c3244f-479a-409e-980c-c3d072cb7576",
   "metadata": {},
   "outputs": [],
   "source": [
    "plot_example(f=FILE[25])"
   ]
  },
  {
   "cell_type": "code",
   "execution_count": null,
   "id": "dff4d619-2da8-4ff4-96c3-f7109a76822a",
   "metadata": {},
   "outputs": [],
   "source": [
    "plot_example(f=FILE[26])"
   ]
  },
  {
   "cell_type": "code",
   "execution_count": null,
   "id": "6682a9cf-09f8-4a61-a222-7ff153cfe30b",
   "metadata": {},
   "outputs": [],
   "source": [
    "plot_example(f=FILE[27])"
   ]
  },
  {
   "cell_type": "code",
   "execution_count": null,
   "id": "33be3e83-1dec-4f67-94ff-4b763e93332b",
   "metadata": {},
   "outputs": [],
   "source": [
    "plot_example(f=FILE[28])"
   ]
  },
  {
   "cell_type": "code",
   "execution_count": null,
   "id": "7a15fe73-9efb-48e7-9564-1624f74c2f4e",
   "metadata": {},
   "outputs": [],
   "source": [
    "plot_example(f=FILE[29])"
   ]
  },
  {
   "cell_type": "code",
   "execution_count": null,
   "id": "aac2e64f-d369-4c64-bc65-f0694cedd108",
   "metadata": {},
   "outputs": [],
   "source": [
    "plot_example(f=FILE[30])"
   ]
  },
  {
   "cell_type": "code",
   "execution_count": null,
   "id": "c44eaa0c-7078-4a78-b832-8488a3a2123f",
   "metadata": {},
   "outputs": [],
   "source": [
    "plot_example(f=FILE[31])"
   ]
  },
  {
   "cell_type": "code",
   "execution_count": null,
   "id": "a9fd3f2d-6bf7-40b1-8da9-5a962c3c09e9",
   "metadata": {},
   "outputs": [],
   "source": [
    "plot_example(f=FILE[32])"
   ]
  },
  {
   "cell_type": "code",
   "execution_count": null,
   "id": "a0e675f7-2f28-4673-8c29-b6d630f37c9f",
   "metadata": {},
   "outputs": [],
   "source": [
    "plot_example(f=FILE[33])"
   ]
  },
  {
   "cell_type": "code",
   "execution_count": null,
   "id": "0583c196-9c55-4ab0-bfa9-8e317bdd0408",
   "metadata": {},
   "outputs": [],
   "source": [
    "plot_example(f=FILE[34])"
   ]
  },
  {
   "cell_type": "code",
   "execution_count": null,
   "id": "7319aaaf-9f25-4fe6-81c0-ae0ea264cf3e",
   "metadata": {},
   "outputs": [],
   "source": [
    "plot_example(f=FILE[35])"
   ]
  },
  {
   "cell_type": "code",
   "execution_count": null,
   "id": "88e2d758-a529-423d-83d8-410b96dd2568",
   "metadata": {},
   "outputs": [],
   "source": [
    "plot_example(f=FILE[36])"
   ]
  },
  {
   "cell_type": "code",
   "execution_count": null,
   "id": "991e1155-eabb-42e2-9e21-9cef91a61d90",
   "metadata": {},
   "outputs": [],
   "source": [
    "plot_example(f=FILE[37])"
   ]
  },
  {
   "cell_type": "code",
   "execution_count": null,
   "id": "b772a663-ae3e-4461-be5b-9bb583e484df",
   "metadata": {},
   "outputs": [],
   "source": [
    "plot_example(f=FILE[38])"
   ]
  },
  {
   "cell_type": "code",
   "execution_count": null,
   "id": "0555fa42-be58-45a0-94c5-4d3fa22d4c29",
   "metadata": {},
   "outputs": [],
   "source": [
    "plot_example(f=FILE[39])"
   ]
  },
  {
   "cell_type": "code",
   "execution_count": null,
   "id": "45473104-1022-4b92-854d-0d45eb8be9f2",
   "metadata": {},
   "outputs": [],
   "source": [
    "plot_example(f=FILE[40])"
   ]
  },
  {
   "cell_type": "code",
   "execution_count": null,
   "id": "723bd7b2-3174-48dd-b02b-f495fbd246b6",
   "metadata": {},
   "outputs": [],
   "source": [
    "plot_example(f=FILE[41])"
   ]
  },
  {
   "cell_type": "code",
   "execution_count": null,
   "id": "d3e688dd-b7cd-45a1-8698-3213731baad7",
   "metadata": {},
   "outputs": [],
   "source": [
    "plot_example(f=FILE[42])"
   ]
  },
  {
   "cell_type": "code",
   "execution_count": null,
   "id": "e7918eac-67dc-498a-aaec-ae8d162807ef",
   "metadata": {},
   "outputs": [],
   "source": [
    "plot_example(f=FILE[43])"
   ]
  },
  {
   "cell_type": "code",
   "execution_count": null,
   "id": "96f4f211-4125-40aa-9ce3-def6bfe36720",
   "metadata": {},
   "outputs": [],
   "source": [
    "plot_example(f=FILE[44])"
   ]
  },
  {
   "cell_type": "code",
   "execution_count": null,
   "id": "72039081-d39d-4e2b-9957-ef8e0aadae5f",
   "metadata": {},
   "outputs": [],
   "source": [
    "plot_example(f=FILE[45])"
   ]
  },
  {
   "cell_type": "code",
   "execution_count": null,
   "id": "0014d575-e5ca-4d8c-bb23-43936b280d02",
   "metadata": {},
   "outputs": [],
   "source": [
    "plot_example(f=FILE[46])"
   ]
  },
  {
   "cell_type": "code",
   "execution_count": null,
   "id": "38c6e567-8d01-40d7-9188-71804cc855b6",
   "metadata": {},
   "outputs": [],
   "source": [
    "plot_example(f=FILE[47])"
   ]
  },
  {
   "cell_type": "code",
   "execution_count": null,
   "id": "9eefb14b-3476-4e2c-a2d0-8c52d7aa05ab",
   "metadata": {},
   "outputs": [],
   "source": [
    "plot_example(f=FILE[48])"
   ]
  },
  {
   "cell_type": "code",
   "execution_count": null,
   "id": "d28f647a-c8ce-4ffb-8665-7d07d6bed0c8",
   "metadata": {},
   "outputs": [],
   "source": [
    "plot_example(f=FILE[49])"
   ]
  },
  {
   "cell_type": "code",
   "execution_count": null,
   "id": "2c615841-b7d6-4a4f-ad9c-44797e47701b",
   "metadata": {},
   "outputs": [],
   "source": [
    "plot_example(f=FILE[50])"
   ]
  },
  {
   "cell_type": "code",
   "execution_count": null,
   "id": "79d323f1-874f-4ad9-84e6-ba2fe3765753",
   "metadata": {},
   "outputs": [],
   "source": [
    "plot_example(f=FILE[51])"
   ]
  },
  {
   "cell_type": "code",
   "execution_count": null,
   "id": "49fcebcd-ff57-444a-89ef-fecb844172c7",
   "metadata": {},
   "outputs": [],
   "source": [
    "plot_example(f=FILE[52])"
   ]
  },
  {
   "cell_type": "code",
   "execution_count": null,
   "id": "fbd299f0-705f-4fbe-bb22-f5e5c5fe02ae",
   "metadata": {},
   "outputs": [],
   "source": [
    "plot_example(f=FILE[53])"
   ]
  },
  {
   "cell_type": "code",
   "execution_count": null,
   "id": "f6997689-078d-4364-9e0c-623939b50652",
   "metadata": {},
   "outputs": [],
   "source": []
  },
  {
   "cell_type": "code",
   "execution_count": null,
   "id": "5db09889-de85-4ef9-a14b-07d4f8208cdd",
   "metadata": {},
   "outputs": [],
   "source": []
  }
 ],
 "metadata": {
  "kernelspec": {
   "display_name": "Python 3 (ipykernel)",
   "language": "python",
   "name": "python3"
  },
  "language_info": {
   "codemirror_mode": {
    "name": "ipython",
    "version": 3
   },
   "file_extension": ".py",
   "mimetype": "text/x-python",
   "name": "python",
   "nbconvert_exporter": "python",
   "pygments_lexer": "ipython3",
   "version": "3.9.12"
  }
 },
 "nbformat": 4,
 "nbformat_minor": 5
}
